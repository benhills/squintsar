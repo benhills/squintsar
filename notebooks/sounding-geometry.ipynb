{
 "cells": [
  {
   "cell_type": "code",
   "execution_count": null,
   "id": "945ac020-f5f4-471a-9490-d39ab1188390",
   "metadata": {
    "tags": []
   },
   "outputs": [],
   "source": [
    "import matplotlib.pyplot as plt\n",
    "import numpy as np\n",
    "\n",
    "import sys\n",
    "sys.path.insert(1, '../squintsar/lib/')\n",
    "from sar_geometry import *\n",
    "from sar_functions import *\n",
    "from supplemental import *"
   ]
  },
  {
   "cell_type": "code",
   "execution_count": null,
   "id": "01c1403f-12df-48b7-8a29-9e8154d595c6",
   "metadata": {
    "tags": []
   },
   "outputs": [],
   "source": [
    "# measurements\n",
    "r0 = 1000 # range\n",
    "h = 500 # height above ice surface\n",
    "dx = .1 # spatial step\n",
    "Xs = np.arange(-100.,100+dx,dx) # along-track distances within the aperture\n",
    "\n",
    "# Initialize the figure\n",
    "plt.figure(figsize=(4,3))\n",
    "plt.axhline(0,color='grey',ls=':')\n",
    "plt.axvline(0,color='grey',ls=':')\n",
    "\n",
    "# air only so simple geometry\n",
    "R1_air = np.sqrt(r0**2.+Xs**2.) - r0\n",
    "plt.plot(Xs,R1_air,'k',ls=':',label='Nadir Air Only')\n",
    "\n",
    "# pure ice and no squint so depth, d, equals r0\n",
    "d = r0\n",
    "deltaD = np.sqrt(d**2.+Xs**2.)-d\n",
    "R1_ice = n*deltaD\n",
    "plt.plot(Xs,R1_ice,'k',ls='--',label='Nadir Ice Only')\n",
    "\n",
    "# with air/ice so ray bending\n",
    "R1_ai = np.empty_like(Xs)\n",
    "for j,xi in enumerate(Xs):\n",
    "    R1_ai[j] = SAR_aperture_raybend(r0, h, xi)\n",
    "plt.plot(Xs,R1_ai,'k',label='Nadir Air/Ice')\n",
    "\n",
    "### Now repeat with a squint ###\n",
    "theta = -3.*np.pi/180.\n",
    "\n",
    "# air only so simple geometry\n",
    "# get along-track distance (x0) from center of aperture to target\n",
    "x0 = r0*np.sin(theta)\n",
    "h_air = r0*np.cos(theta)\n",
    "R2_air = np.sqrt(h_air**2.+(Xs-x0)**2.) - h_air\n",
    "plt.plot(Xs,R2_air,'indianred',ls=':',label='Squinted Air Only')\n",
    "\n",
    "# pure ice with squint calculated by snells law\n",
    "theta_ice = snell(theta)\n",
    "x0 = r0*np.sin(theta_ice)\n",
    "d = r0*np.cos(theta_ice)\n",
    "deltaD = np.sqrt(d**2.+(Xs-x0)**2.)-d\n",
    "R2_ice = n*deltaD\n",
    "plt.plot(Xs,R2_ice,'indianred',ls='--',label='Squinted Ice Only')\n",
    "\n",
    "# with air/ice so ray bending\n",
    "R2_ai = np.empty_like(Xs)\n",
    "for j,xi in enumerate(Xs):\n",
    "    R2_ai[j] = SAR_aperture_raybend(r0, h, xi, theta)\n",
    "plt.plot(Xs,R2_ai,'indianred',label='Squinted Air/Ice')\n",
    "\n",
    "# polish plot and save\n",
    "plt.legend(fontsize=8)\n",
    "plt.ylim(5,-1)\n",
    "plt.xlim(min(Xs),max(Xs))\n",
    "plt.xlabel('Along-track distance (m)')\n",
    "plt.ylabel('Range Offset (m)')\n",
    "plt.gca().yaxis.tick_right()\n",
    "plt.gca().yaxis.set_label_position(\"right\")\n",
    "plt.tight_layout()\n",
    "plt.savefig('Range_Offsets.pdf')"
   ]
  },
  {
   "cell_type": "code",
   "execution_count": null,
   "id": "8dd21574-86b6-47a4-aef0-b00718d2ca31",
   "metadata": {
    "tags": []
   },
   "outputs": [],
   "source": [
    "### Reference waveforms from range offset above\n",
    "\n",
    "# initialize teh figure\n",
    "plt.figure(figsize=(4,3))\n",
    "ax1=plt.subplot(211)\n",
    "plt.tick_params(labelbottom=False)\n",
    "plt.xlim(min(Xs),max(Xs))\n",
    "plt.text(0.03,0.8,'A',transform=ax1.transAxes,weight='bold',\n",
    "        bbox=dict(facecolor='w', edgecolor='k',pad=2,lw=2))\n",
    "ax2 = plt.subplot(212)\n",
    "plt.xlim(min(Xs),max(Xs))\n",
    "plt.xlabel('Along-track distance (m)')\n",
    "plt.ylabel('Ref. Waveform')\n",
    "plt.text(0.03,0.8,'B',transform=ax2.transAxes,weight='bold',\n",
    "        bbox=dict(facecolor='w', edgecolor='k',pad=2,lw=2))\n",
    "\n",
    "# unsquinted\n",
    "C = matched_filter(r2p(R1_air))\n",
    "ax1.plot(Xs,C,'k:')\n",
    "C = matched_filter(r2p(R1_ai))\n",
    "ax1.plot(Xs,C,'k-')\n",
    "\n",
    "# squinted\n",
    "C = matched_filter(r2p(R2_air))\n",
    "ax2.plot(Xs,C,':',c='indianred')\n",
    "C = matched_filter(r2p(R2_ai))\n",
    "ax2.plot(Xs,C,'-',c='indianred')\n",
    "\n",
    "# tighten up and save\n",
    "plt.tight_layout()\n",
    "plt.savefig('Reference_Waveforms.pdf')"
   ]
  }
 ],
 "metadata": {
  "kernelspec": {
   "display_name": "Python 3 (ipykernel)",
   "language": "python",
   "name": "python3"
  },
  "language_info": {
   "codemirror_mode": {
    "name": "ipython",
    "version": 3
   },
   "file_extension": ".py",
   "mimetype": "text/x-python",
   "name": "python",
   "nbconvert_exporter": "python",
   "pygments_lexer": "ipython3",
   "version": "3.8.16"
  },
  "widgets": {
   "application/vnd.jupyter.widget-state+json": {
    "state": {},
    "version_major": 2,
    "version_minor": 0
   }
  }
 },
 "nbformat": 4,
 "nbformat_minor": 5
}
